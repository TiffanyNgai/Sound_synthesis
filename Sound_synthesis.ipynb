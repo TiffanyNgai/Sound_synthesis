{
  "nbformat": 4,
  "nbformat_minor": 0,
  "metadata": {
    "colab": {
      "provenance": [],
      "collapsed_sections": [],
      "authorship_tag": "ABX9TyN17+FJ60HYTr409J88ig4d",
      "include_colab_link": true
    },
    "kernelspec": {
      "name": "python3",
      "display_name": "Python 3"
    },
    "language_info": {
      "name": "python"
    }
  },
  "cells": [
    {
      "cell_type": "markdown",
      "metadata": {
        "id": "view-in-github",
        "colab_type": "text"
      },
      "source": [
        "<a href=\"https://colab.research.google.com/github/TiffanyNgai/Sound_synthesis/blob/main/Sound_synthesis.ipynb\" target=\"_parent\"><img src=\"https://colab.research.google.com/assets/colab-badge.svg\" alt=\"Open In Colab\"/></a>"
      ]
    },
    {
      "cell_type": "markdown",
      "source": [
        "## Goal: synthesize the NBC trademark chimes (nbc_chimes.mp3)"
      ],
      "metadata": {
        "id": "JnKoiNhFGKI7"
      }
    },
    {
      "cell_type": "code",
      "execution_count": null,
      "metadata": {
        "id": "YUoEmkJ3GGE4"
      },
      "outputs": [],
      "source": [
        "import math, wave\n",
        "import numpy as np\n",
        "import matplotlib.pyplot as plt"
      ]
    },
    {
      "cell_type": "code",
      "source": [
        "sampling_freq = 44100  # Unit: Hz\n",
        "f_list = [0 , 389, 662, 518]  # Unit: Hz\n",
        "harmonics_list = [1576, 3573, 1572, 2648, 2097, 4758]  # Two most significant harmonics each section\n",
        "harmonics_gain = [0.0641, 0.0210, 0.183, 0.283, 0.400, 0.134]  # Gain corresponding to the harmonics\n",
        "duration = [0.0465, 0.425 - 0.0465, 0.815 - 0.425, 2.548 - 0.815] # Duration per section\n",
        "t_list = [0.0465, 0.425, 0.815, 2.548]\n",
        "end_list = []  # No. of sample of the section break\n",
        "for t in t_list:\n",
        "  end_list.append(int(t * sampling_freq))\n",
        "\n",
        "t_arr = np.linspace(0, t_list[-1], int(sampling_freq * t_list[-1]))\n",
        "\n",
        "# Synthesize the basic three notes\n",
        "out_wave = np.zeros(end_list[-1])\n",
        "out_wave[end_list[0]:] = np.sin(2 * np.pi * f_list[1] * t_arr[end_list[0]:])\n",
        "out_wave[end_list[1]:] = out_wave[end_list[1]:] + np.sin(2 * np.pi * f_list[2] * t_arr[end_list[1]:])\n",
        "out_wave[end_list[2]:] = out_wave[end_list[2]:] + np.sin(2 * np.pi * f_list[3] * t_arr[end_list[2]:])\n",
        "out_wave[end_list[1]:end_list[2]] /= 2\n",
        "out_wave[end_list[2]:end_list[3]] /= 3\n",
        "\n",
        "\n",
        "# Add harmonics\n",
        "out_wave[end_list[0]:end_list[1]] += harmonics_gain[0] * np.sin(2 * np.pi * harmonics_list[0] * t_arr[end_list[0]:end_list[1]]) + harmonics_gain[1] * np.sin(2 * np.pi * harmonics_list[1] * t_arr[end_list[0]:end_list[1]])\n",
        "out_wave[end_list[1]:end_list[2]] += harmonics_gain[2] * np.sin(2 * np.pi * harmonics_list[2] * t_arr[end_list[1]:end_list[2]]) + harmonics_gain[3] * np.sin(2 * np.pi * harmonics_list[3] * t_arr[end_list[1]:end_list[2]])\n",
        "out_wave[end_list[2]:end_list[3]] += harmonics_gain[4] * np.sin(2 * np.pi * harmonics_list[4] * t_arr[end_list[2]:end_list[3]]) + harmonics_gain[5] * np.sin(2 * np.pi * harmonics_list[5] * t_arr[end_list[2]:end_list[3]])\n",
        "out_wave = out_wave * 32767 / 1.5  # Scale to 16-bit and scale down by dividing 1.5 to compensate amplitude increase due to addition of harmonics\n",
        "\n",
        "\n",
        "# Fade out\n",
        "offset = int(1.2 * sampling_freq)  # No. of sample that fade out starts\n",
        "fade_out_arr = np.logspace(0, -2, end_list[3] - offset)\n",
        "out_wave[offset:end_list[3]] = out_wave[offset:end_list[3]] * fade_out_arr\n",
        "\n",
        "print(f\"Timestamps: {end_list}\")"
      ],
      "metadata": {
        "colab": {
          "base_uri": "https://localhost:8080/"
        },
        "id": "ZFRTlSvzFpxC",
        "outputId": "c9886d32-a947-4dcf-e83e-81372e7975cd"
      },
      "execution_count": null,
      "outputs": [
        {
          "output_type": "stream",
          "name": "stdout",
          "text": [
            "Timestamps: [2050, 18742, 35941, 112366]\n"
          ]
        }
      ]
    },
    {
      "cell_type": "code",
      "source": [
        "plt.plot(out_wave)\n",
        "plt.show()"
      ],
      "metadata": {
        "colab": {
          "base_uri": "https://localhost:8080/",
          "height": 265
        },
        "id": "79hB4fDxZqbl",
        "outputId": "06ad082d-3cf7-4fed-b5c2-9b5e9080d8e5"
      },
      "execution_count": null,
      "outputs": [
        {
          "output_type": "display_data",
          "data": {
            "text/plain": [
              "<Figure size 432x288 with 1 Axes>"
            ],
            "image/png": "[encoded data removed]"
          },
          "metadata": {
            "needs_background": "light"
          }
        }
      ]
    },
    {
      "cell_type": "code",
      "source": [
        "# Write output\n",
        "obj = wave.open('synth_out.wav', 'wb')\n",
        "obj.setnchannels(1)\n",
        "obj.setsampwidth(2)\n",
        "obj.setframerate(sampling_freq)\n",
        "obj.setnframes(len(out_wave))\n",
        "output = out_wave.astype('<h')  # Convert to 16-bit little endian int\n",
        "obj.writeframes(output.tobytes())\n",
        "obj.close()"
      ],
      "metadata": {
        "id": "Y1D83mTqi4aJ"
      },
      "execution_count": null,
      "outputs": []
    }
  ]
}